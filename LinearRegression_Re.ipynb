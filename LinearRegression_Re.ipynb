{
 "cells": [
  {
   "cell_type": "code",
   "execution_count": 66,
   "id": "f97d65be",
   "metadata": {},
   "outputs": [],
   "source": [
    "import numpy as np\n",
    "import pandas as pd\n",
    "import matplotlib.pyplot as plt\n",
    "import matplotlib"
   ]
  },
  {
   "cell_type": "code",
   "execution_count": 67,
   "id": "c1bc1221",
   "metadata": {},
   "outputs": [
    {
     "data": {
      "text/html": [
       "<div>\n",
       "<style scoped>\n",
       "    .dataframe tbody tr th:only-of-type {\n",
       "        vertical-align: middle;\n",
       "    }\n",
       "\n",
       "    .dataframe tbody tr th {\n",
       "        vertical-align: top;\n",
       "    }\n",
       "\n",
       "    .dataframe thead th {\n",
       "        text-align: right;\n",
       "    }\n",
       "</style>\n",
       "<table border=\"1\" class=\"dataframe\">\n",
       "  <thead>\n",
       "    <tr style=\"text-align: right;\">\n",
       "      <th></th>\n",
       "      <th>BK_hospitalization</th>\n",
       "      <th>Restaurant</th>\n",
       "    </tr>\n",
       "  </thead>\n",
       "  <tbody>\n",
       "    <tr>\n",
       "      <th>0</th>\n",
       "      <td>364</td>\n",
       "      <td>0</td>\n",
       "    </tr>\n",
       "    <tr>\n",
       "      <th>1</th>\n",
       "      <td>418</td>\n",
       "      <td>2</td>\n",
       "    </tr>\n",
       "    <tr>\n",
       "      <th>2</th>\n",
       "      <td>487</td>\n",
       "      <td>2</td>\n",
       "    </tr>\n",
       "    <tr>\n",
       "      <th>3</th>\n",
       "      <td>464</td>\n",
       "      <td>2</td>\n",
       "    </tr>\n",
       "    <tr>\n",
       "      <th>4</th>\n",
       "      <td>399</td>\n",
       "      <td>2</td>\n",
       "    </tr>\n",
       "  </tbody>\n",
       "</table>\n",
       "</div>"
      ],
      "text/plain": [
       "   BK_hospitalization  Restaurant\n",
       "0                 364           0\n",
       "1                 418           2\n",
       "2                 487           2\n",
       "3                 464           2\n",
       "4                 399           2"
      ]
     },
     "execution_count": 67,
     "metadata": {},
     "output_type": "execute_result"
    }
   ],
   "source": [
    "df=pd.read_csv('data_re.txt', delimiter=';', usecols=(0,1), header=None) #Import the file, now the column names are 0 and 1\n",
    "df.rename(columns={0:'BK_hospitalization',1:'Restaurant'},inplace=True) #Change column name\n",
    "df.head()#Display the first five lines"
   ]
  },
  {
   "cell_type": "code",
   "execution_count": 68,
   "id": "05deb15b",
   "metadata": {},
   "outputs": [
    {
     "data": {
      "text/html": [
       "<div>\n",
       "<style scoped>\n",
       "    .dataframe tbody tr th:only-of-type {\n",
       "        vertical-align: middle;\n",
       "    }\n",
       "\n",
       "    .dataframe tbody tr th {\n",
       "        vertical-align: top;\n",
       "    }\n",
       "\n",
       "    .dataframe thead th {\n",
       "        text-align: right;\n",
       "    }\n",
       "</style>\n",
       "<table border=\"1\" class=\"dataframe\">\n",
       "  <thead>\n",
       "    <tr style=\"text-align: right;\">\n",
       "      <th></th>\n",
       "      <th>BK_hospitalization</th>\n",
       "      <th>Restaurant</th>\n",
       "    </tr>\n",
       "  </thead>\n",
       "  <tbody>\n",
       "    <tr>\n",
       "      <th>count</th>\n",
       "      <td>61.000000</td>\n",
       "      <td>61.000000</td>\n",
       "    </tr>\n",
       "    <tr>\n",
       "      <th>mean</th>\n",
       "      <td>178.311475</td>\n",
       "      <td>4.360656</td>\n",
       "    </tr>\n",
       "    <tr>\n",
       "      <th>std</th>\n",
       "      <td>146.079834</td>\n",
       "      <td>3.678916</td>\n",
       "    </tr>\n",
       "    <tr>\n",
       "      <th>min</th>\n",
       "      <td>36.000000</td>\n",
       "      <td>0.000000</td>\n",
       "    </tr>\n",
       "    <tr>\n",
       "      <th>25%</th>\n",
       "      <td>89.000000</td>\n",
       "      <td>2.000000</td>\n",
       "    </tr>\n",
       "    <tr>\n",
       "      <th>50%</th>\n",
       "      <td>112.000000</td>\n",
       "      <td>4.000000</td>\n",
       "    </tr>\n",
       "    <tr>\n",
       "      <th>75%</th>\n",
       "      <td>233.000000</td>\n",
       "      <td>6.000000</td>\n",
       "    </tr>\n",
       "    <tr>\n",
       "      <th>max</th>\n",
       "      <td>560.000000</td>\n",
       "      <td>19.000000</td>\n",
       "    </tr>\n",
       "  </tbody>\n",
       "</table>\n",
       "</div>"
      ],
      "text/plain": [
       "       BK_hospitalization  Restaurant\n",
       "count           61.000000   61.000000\n",
       "mean           178.311475    4.360656\n",
       "std            146.079834    3.678916\n",
       "min             36.000000    0.000000\n",
       "25%             89.000000    2.000000\n",
       "50%            112.000000    4.000000\n",
       "75%            233.000000    6.000000\n",
       "max            560.000000   19.000000"
      ]
     },
     "execution_count": 68,
     "metadata": {},
     "output_type": "execute_result"
    }
   ],
   "source": [
    "df.describe()#Do descriptive statistics on the data first"
   ]
  },
  {
   "cell_type": "code",
   "execution_count": 69,
   "id": "febf9cd8",
   "metadata": {},
   "outputs": [
    {
     "data": {
      "image/png": "[encoded data removed]",
      "text/plain": [
       "<Figure size 720x432 with 1 Axes>"
      ]
     },
     "metadata": {
      "needs_background": "light"
     },
     "output_type": "display_data"
    }
   ],
   "source": [
    "plt.figure(figsize=(10,6))\n",
    "plt.grid(True)\n",
    "plt.scatter(df['BK_hospitalization'],df['Restaurant'])\n",
    "\n",
    "# Set the chart title and label the axis\n",
    "plt.xlabel('BK_hospitalization')\n",
    "plt.ylabel('Restaurant')\n",
    "plt.show()"
   ]
  },
  {
   "cell_type": "code",
   "execution_count": 70,
   "id": "1b6a26a9",
   "metadata": {},
   "outputs": [
    {
     "data": {
      "image/png": "[encoded data removed]",
      "text/plain": [
       "<Figure size 720x432 with 1 Axes>"
      ]
     },
     "metadata": {
      "needs_background": "light"
     },
     "output_type": "display_data"
    }
   ],
   "source": [
    "#Standardize the above data using StandardScaler\n",
    "\n",
    "from sklearn.preprocessing import StandardScaler\n",
    "\n",
    "X=df['BK_hospitalization'].values.reshape(-1, 1)\n",
    "y=df['Restaurant'].values.reshape(-1, 1)\n",
    "\n",
    "ss_x=StandardScaler()\n",
    "ss_y=StandardScaler()\n",
    "X_ss=ss_x.fit_transform(X)\n",
    "y_ss=ss_y.fit_transform(y)\n",
    "plt.figure(figsize=(10,6))\n",
    "plt.grid(True)\n",
    "plt.scatter(X_ss,y_ss)\n",
    "\n",
    "plt.xlabel('BK_hospitalization')\n",
    "plt.ylabel('Restaurant')\n",
    "plt.show()"
   ]
  },
  {
   "cell_type": "code",
   "execution_count": 71,
   "id": "344221a8",
   "metadata": {},
   "outputs": [
    {
     "data": {
      "text/html": [
       "<div>\n",
       "<style scoped>\n",
       "    .dataframe tbody tr th:only-of-type {\n",
       "        vertical-align: middle;\n",
       "    }\n",
       "\n",
       "    .dataframe tbody tr th {\n",
       "        vertical-align: top;\n",
       "    }\n",
       "\n",
       "    .dataframe thead th {\n",
       "        text-align: right;\n",
       "    }\n",
       "</style>\n",
       "<table border=\"1\" class=\"dataframe\">\n",
       "  <thead>\n",
       "    <tr style=\"text-align: right;\">\n",
       "      <th></th>\n",
       "      <th>BK_hospitalization_ss</th>\n",
       "      <th>Restaurant_ss</th>\n",
       "    </tr>\n",
       "  </thead>\n",
       "  <tbody>\n",
       "    <tr>\n",
       "      <th>0</th>\n",
       "      <td>1.281693</td>\n",
       "      <td>-1.195147</td>\n",
       "    </tr>\n",
       "    <tr>\n",
       "      <th>1</th>\n",
       "      <td>1.654422</td>\n",
       "      <td>-0.646997</td>\n",
       "    </tr>\n",
       "    <tr>\n",
       "      <th>2</th>\n",
       "      <td>2.130686</td>\n",
       "      <td>-0.646997</td>\n",
       "    </tr>\n",
       "    <tr>\n",
       "      <th>3</th>\n",
       "      <td>1.971931</td>\n",
       "      <td>-0.646997</td>\n",
       "    </tr>\n",
       "    <tr>\n",
       "      <th>4</th>\n",
       "      <td>1.523277</td>\n",
       "      <td>-0.646997</td>\n",
       "    </tr>\n",
       "    <tr>\n",
       "      <th>...</th>\n",
       "      <td>...</td>\n",
       "      <td>...</td>\n",
       "    </tr>\n",
       "    <tr>\n",
       "      <th>56</th>\n",
       "      <td>-0.650974</td>\n",
       "      <td>0.175228</td>\n",
       "    </tr>\n",
       "    <tr>\n",
       "      <th>57</th>\n",
       "      <td>-0.533633</td>\n",
       "      <td>-0.372922</td>\n",
       "    </tr>\n",
       "    <tr>\n",
       "      <th>58</th>\n",
       "      <td>-0.519829</td>\n",
       "      <td>1.271528</td>\n",
       "    </tr>\n",
       "    <tr>\n",
       "      <th>59</th>\n",
       "      <td>-0.616462</td>\n",
       "      <td>-0.646997</td>\n",
       "    </tr>\n",
       "    <tr>\n",
       "      <th>60</th>\n",
       "      <td>-0.499121</td>\n",
       "      <td>0.449303</td>\n",
       "    </tr>\n",
       "  </tbody>\n",
       "</table>\n",
       "<p>61 rows × 2 columns</p>\n",
       "</div>"
      ],
      "text/plain": [
       "    BK_hospitalization_ss  Restaurant_ss\n",
       "0                1.281693      -1.195147\n",
       "1                1.654422      -0.646997\n",
       "2                2.130686      -0.646997\n",
       "3                1.971931      -0.646997\n",
       "4                1.523277      -0.646997\n",
       "..                    ...            ...\n",
       "56              -0.650974       0.175228\n",
       "57              -0.533633      -0.372922\n",
       "58              -0.519829       1.271528\n",
       "59              -0.616462      -0.646997\n",
       "60              -0.499121       0.449303\n",
       "\n",
       "[61 rows x 2 columns]"
      ]
     },
     "execution_count": 71,
     "metadata": {},
     "output_type": "execute_result"
    }
   ],
   "source": [
    "X_ss = X_ss.reshape(-1)\n",
    "y_ss = y_ss.reshape(-1)\n",
    "dict_ss={\"BK_hospitalization_ss\" : X_ss,\n",
    "   \"Restaurant_ss\" : y_ss}\n",
    "df_ss= pd.DataFrame(dict_ss)\n",
    "df_ss #show the dataframe after the standardization"
   ]
  },
  {
   "cell_type": "code",
   "execution_count": 72,
   "id": "12d47186",
   "metadata": {},
   "outputs": [],
   "source": [
    "def computeCost(x,y,theta):\n",
    "    inner = np.sum(np.power((x*theta-y),2))\n",
    "    return inner/(2*len(x)) #Define cost function"
   ]
  },
  {
   "cell_type": "code",
   "execution_count": 73,
   "id": "1843ca4c",
   "metadata": {},
   "outputs": [
    {
     "data": {
      "text/html": [
       "<div>\n",
       "<style scoped>\n",
       "    .dataframe tbody tr th:only-of-type {\n",
       "        vertical-align: middle;\n",
       "    }\n",
       "\n",
       "    .dataframe tbody tr th {\n",
       "        vertical-align: top;\n",
       "    }\n",
       "\n",
       "    .dataframe thead th {\n",
       "        text-align: right;\n",
       "    }\n",
       "</style>\n",
       "<table border=\"1\" class=\"dataframe\">\n",
       "  <thead>\n",
       "    <tr style=\"text-align: right;\">\n",
       "      <th></th>\n",
       "      <th>ones</th>\n",
       "      <th>BK_hospitalization_ss</th>\n",
       "      <th>Restaurant_ss</th>\n",
       "    </tr>\n",
       "  </thead>\n",
       "  <tbody>\n",
       "    <tr>\n",
       "      <th>0</th>\n",
       "      <td>1</td>\n",
       "      <td>1.281693</td>\n",
       "      <td>-1.195147</td>\n",
       "    </tr>\n",
       "    <tr>\n",
       "      <th>1</th>\n",
       "      <td>1</td>\n",
       "      <td>1.654422</td>\n",
       "      <td>-0.646997</td>\n",
       "    </tr>\n",
       "    <tr>\n",
       "      <th>2</th>\n",
       "      <td>1</td>\n",
       "      <td>2.130686</td>\n",
       "      <td>-0.646997</td>\n",
       "    </tr>\n",
       "    <tr>\n",
       "      <th>3</th>\n",
       "      <td>1</td>\n",
       "      <td>1.971931</td>\n",
       "      <td>-0.646997</td>\n",
       "    </tr>\n",
       "    <tr>\n",
       "      <th>4</th>\n",
       "      <td>1</td>\n",
       "      <td>1.523277</td>\n",
       "      <td>-0.646997</td>\n",
       "    </tr>\n",
       "  </tbody>\n",
       "</table>\n",
       "</div>"
      ],
      "text/plain": [
       "   ones  BK_hospitalization_ss  Restaurant_ss\n",
       "0     1               1.281693      -1.195147\n",
       "1     1               1.654422      -0.646997\n",
       "2     1               2.130686      -0.646997\n",
       "3     1               1.971931      -0.646997\n",
       "4     1               1.523277      -0.646997"
      ]
     },
     "execution_count": 73,
     "metadata": {},
     "output_type": "execute_result"
    }
   ],
   "source": [
    "\n",
    "# Because theta is a 2*1-dimensional vector and x is a len(x) * 1-dimensional vector, in order to be able to perform calculations, add a column before the 0th column in x, the value of which is all 1, so that x becomes len(x ) *2-dimensional matrix. At this time x * theta is the hypothetical function.\n",
    "\n",
    "df_ss.insert(0,'ones',1)#It means to add a column before the 0th column of df, the name of the column is'one', and its value is all 1\n",
    "df_ss.head()"
   ]
  },
  {
   "cell_type": "code",
   "execution_count": 74,
   "id": "9bd81a85",
   "metadata": {},
   "outputs": [],
   "source": [
    "# Define input variables and output variables and parameters\n",
    "x=df_ss.loc[:,['ones','BK_hospitalization_ss']]\n",
    "y=df_ss.loc[:,'Restaurant_ss']\n",
    "X=np.matrix(x.values)\n",
    "y=np.matrix(y.values) \n",
    "theta=np.matrix([0,0])"
   ]
  },
  {
   "cell_type": "code",
   "execution_count": 75,
   "id": "0f703d6f",
   "metadata": {},
   "outputs": [],
   "source": [
    "y=y.T  #Reverse transpose\n",
    "theta=theta.T"
   ]
  },
  {
   "cell_type": "code",
   "execution_count": 76,
   "id": "6b62b549",
   "metadata": {},
   "outputs": [
    {
     "data": {
      "text/plain": [
       "0.4999999999999999"
      ]
     },
     "execution_count": 76,
     "metadata": {},
     "output_type": "execute_result"
    }
   ],
   "source": [
    "computeCost(X,y,theta)#First calculate the initial cost function"
   ]
  },
  {
   "cell_type": "code",
   "execution_count": 77,
   "id": "e17a6181",
   "metadata": {},
   "outputs": [],
   "source": [
    "#Define the gradient descent algorithm\n",
    "def gradientDescent(x,y,theta,alpha,iters):#alpha is the learning rate, iters is the number of iterations\n",
    "    temp = np.matrix(np.zeros(theta.shape))#initialization\n",
    "    cost = np.zeros(iters) \n",
    "    for i in range(iters):\n",
    "        temp = theta - ((alpha/len(x))*(x*theta-y).T *x).T #Use the form of a vector\n",
    "        theta = temp  # Update at the same time\n",
    "        cost[i]=computeCost(x,y,theta)\n",
    "   \n",
    "    return theta,cost"
   ]
  },
  {
   "cell_type": "code",
   "execution_count": 78,
   "id": "31db9b64",
   "metadata": {},
   "outputs": [],
   "source": [
    "alpha=0.01\n",
    "iters=1000"
   ]
  },
  {
   "cell_type": "code",
   "execution_count": 79,
   "id": "a9aa34be",
   "metadata": {},
   "outputs": [
    {
     "data": {
      "text/plain": [
       "matrix([[ 9.36479626e-18],\n",
       "        [-3.26916425e-01]])"
      ]
     },
     "execution_count": 79,
     "metadata": {},
     "output_type": "execute_result"
    }
   ],
   "source": [
    "finally_theta,cost=gradientDescent(X,y,theta,alpha,iters)\n",
    "finally_theta"
   ]
  },
  {
   "cell_type": "code",
   "execution_count": 80,
   "id": "1936e2ad",
   "metadata": {},
   "outputs": [
    {
     "data": {
      "text/plain": [
       "0.4465582113991344"
      ]
     },
     "execution_count": 80,
     "metadata": {},
     "output_type": "execute_result"
    }
   ],
   "source": [
    "computeCost(X,y,finally_theta)#Calculate the cost function of the training model with the parameters obtained by the fitting"
   ]
  },
  {
   "cell_type": "code",
   "execution_count": 81,
   "id": "837d5fe6",
   "metadata": {},
   "outputs": [
    {
     "data": {
      "image/png": "[encoded data removed]",
      "text/plain": [
       "<Figure size 576x288 with 1 Axes>"
      ]
     },
     "metadata": {
      "needs_background": "light"
     },
     "output_type": "display_data"
    }
   ],
   "source": [
    "x=np.linspace(df_ss['BK_hospitalization_ss'].min(),df_ss['BK_hospitalization_ss'].max(),100)#Select the minimum and maximum values in a column, and generate 100 numbers at equal intervals between these two values\n",
    "f=finally_theta[0,0]+finally_theta[1,0]*x \n",
    "fig,ax=plt.subplots(figsize=(8,4))\n",
    "ax.plot(x,f,'r',label='LinearRegression')\n",
    "ax.scatter(df_ss['BK_hospitalization_ss'],df_ss['Restaurant_ss'],label='Dataset')\n",
    "ax.legend(loc=2)\n",
    "ax.set_xlabel('BK_hospitalization_ss')\n",
    "ax.set_ylabel('Restaurant_ss')\n",
    "ax.set_title('Corelation')\n",
    "plt.show()"
   ]
  },
  {
   "cell_type": "code",
   "execution_count": 82,
   "id": "257f388d",
   "metadata": {},
   "outputs": [
    {
     "data": {
      "text/plain": [
       "Text(0.5, 1.0, 'GredientDecent')"
      ]
     },
     "execution_count": 82,
     "metadata": {},
     "output_type": "execute_result"
    },
    {
     "data": {
      "image/png": "[encoded data removed]",
      "text/plain": [
       "<Figure size 576x288 with 1 Axes>"
      ]
     },
     "metadata": {
      "needs_background": "light"
     },
     "output_type": "display_data"
    }
   ],
   "source": [
    "x=np.arange(1000)\n",
    "fig,ax=plt.subplots(figsize=(8,4))\n",
    "ax.plot(x,cost,'r')\n",
    "ax.set_xlabel('Iterations')\n",
    "ax.set_ylabel('CostFunction')\n",
    "ax.set_title('GredientDecent')"
   ]
  },
  {
   "cell_type": "code",
   "execution_count": null,
   "id": "360960e3",
   "metadata": {},
   "outputs": [],
   "source": []
  }
 ],
 "metadata": {
  "kernelspec": {
   "display_name": "Python 3",
   "language": "python",
   "name": "python3"
  },
  "language_info": {
   "codemirror_mode": {
    "name": "ipython",
    "version": 3
   },
   "file_extension": ".py",
   "mimetype": "text/x-python",
   "name": "python",
   "nbconvert_exporter": "python",
   "pygments_lexer": "ipython3",
   "version": "3.8.8"
  }
 },
 "nbformat": 4,
 "nbformat_minor": 5
}
