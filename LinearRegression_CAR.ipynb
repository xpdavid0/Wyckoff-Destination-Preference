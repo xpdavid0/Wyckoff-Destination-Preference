{
 "cells": [
  {
   "cell_type": "code",
   "execution_count": 4,
   "id": "f97d65be",
   "metadata": {},
   "outputs": [],
   "source": [
    "import numpy as np\n",
    "import pandas as pd\n",
    "import matplotlib.pyplot as plt\n",
    "import matplotlib"
   ]
  },
  {
   "cell_type": "code",
   "execution_count": 9,
   "id": "c1bc1221",
   "metadata": {},
   "outputs": [
    {
     "data": {
      "text/html": [
       "<div>\n",
       "<style scoped>\n",
       "    .dataframe tbody tr th:only-of-type {\n",
       "        vertical-align: middle;\n",
       "    }\n",
       "\n",
       "    .dataframe tbody tr th {\n",
       "        vertical-align: top;\n",
       "    }\n",
       "\n",
       "    .dataframe thead th {\n",
       "        text-align: right;\n",
       "    }\n",
       "</style>\n",
       "<table border=\"1\" class=\"dataframe\">\n",
       "  <thead>\n",
       "    <tr style=\"text-align: right;\">\n",
       "      <th></th>\n",
       "      <th>BK_hospitalization</th>\n",
       "      <th>Car</th>\n",
       "    </tr>\n",
       "  </thead>\n",
       "  <tbody>\n",
       "    <tr>\n",
       "      <th>0</th>\n",
       "      <td>364</td>\n",
       "      <td>9</td>\n",
       "    </tr>\n",
       "    <tr>\n",
       "      <th>1</th>\n",
       "      <td>418</td>\n",
       "      <td>3</td>\n",
       "    </tr>\n",
       "    <tr>\n",
       "      <th>2</th>\n",
       "      <td>487</td>\n",
       "      <td>8</td>\n",
       "    </tr>\n",
       "    <tr>\n",
       "      <th>3</th>\n",
       "      <td>464</td>\n",
       "      <td>4</td>\n",
       "    </tr>\n",
       "    <tr>\n",
       "      <th>4</th>\n",
       "      <td>399</td>\n",
       "      <td>6</td>\n",
       "    </tr>\n",
       "  </tbody>\n",
       "</table>\n",
       "</div>"
      ],
      "text/plain": [
       "   BK_hospitalization  Car\n",
       "0                 364    9\n",
       "1                 418    3\n",
       "2                 487    8\n",
       "3                 464    4\n",
       "4                 399    6"
      ]
     },
     "execution_count": 9,
     "metadata": {},
     "output_type": "execute_result"
    }
   ],
   "source": [
    "df=pd.read_csv('data_car.txt', delimiter=';', usecols=(0,1), header=None) #Import the file, now the column names are 0 and 1\n",
    "df.rename(columns={0:'BK_hospitalization',1:'Car'},inplace=True) #Change column name\n",
    "df.head()#Display the first five lines"
   ]
  },
  {
   "cell_type": "code",
   "execution_count": 10,
   "id": "05deb15b",
   "metadata": {},
   "outputs": [
    {
     "data": {
      "text/html": [
       "<div>\n",
       "<style scoped>\n",
       "    .dataframe tbody tr th:only-of-type {\n",
       "        vertical-align: middle;\n",
       "    }\n",
       "\n",
       "    .dataframe tbody tr th {\n",
       "        vertical-align: top;\n",
       "    }\n",
       "\n",
       "    .dataframe thead th {\n",
       "        text-align: right;\n",
       "    }\n",
       "</style>\n",
       "<table border=\"1\" class=\"dataframe\">\n",
       "  <thead>\n",
       "    <tr style=\"text-align: right;\">\n",
       "      <th></th>\n",
       "      <th>BK_hospitalization</th>\n",
       "      <th>Car</th>\n",
       "    </tr>\n",
       "  </thead>\n",
       "  <tbody>\n",
       "    <tr>\n",
       "      <th>count</th>\n",
       "      <td>65.000000</td>\n",
       "      <td>65.000000</td>\n",
       "    </tr>\n",
       "    <tr>\n",
       "      <th>mean</th>\n",
       "      <td>170.000000</td>\n",
       "      <td>4.138462</td>\n",
       "    </tr>\n",
       "    <tr>\n",
       "      <th>std</th>\n",
       "      <td>145.336248</td>\n",
       "      <td>2.714987</td>\n",
       "    </tr>\n",
       "    <tr>\n",
       "      <th>min</th>\n",
       "      <td>18.000000</td>\n",
       "      <td>0.000000</td>\n",
       "    </tr>\n",
       "    <tr>\n",
       "      <th>25%</th>\n",
       "      <td>84.000000</td>\n",
       "      <td>2.000000</td>\n",
       "    </tr>\n",
       "    <tr>\n",
       "      <th>50%</th>\n",
       "      <td>106.000000</td>\n",
       "      <td>4.000000</td>\n",
       "    </tr>\n",
       "    <tr>\n",
       "      <th>75%</th>\n",
       "      <td>221.000000</td>\n",
       "      <td>5.000000</td>\n",
       "    </tr>\n",
       "    <tr>\n",
       "      <th>max</th>\n",
       "      <td>560.000000</td>\n",
       "      <td>11.000000</td>\n",
       "    </tr>\n",
       "  </tbody>\n",
       "</table>\n",
       "</div>"
      ],
      "text/plain": [
       "       BK_hospitalization        Car\n",
       "count           65.000000  65.000000\n",
       "mean           170.000000   4.138462\n",
       "std            145.336248   2.714987\n",
       "min             18.000000   0.000000\n",
       "25%             84.000000   2.000000\n",
       "50%            106.000000   4.000000\n",
       "75%            221.000000   5.000000\n",
       "max            560.000000  11.000000"
      ]
     },
     "execution_count": 10,
     "metadata": {},
     "output_type": "execute_result"
    }
   ],
   "source": [
    "df.describe()#Do descriptive statistics on the data first"
   ]
  },
  {
   "cell_type": "code",
   "execution_count": 11,
   "id": "febf9cd8",
   "metadata": {},
   "outputs": [
    {
     "data": {
      "image/png": "[encoded data removed]",
      "text/plain": [
       "<Figure size 720x432 with 1 Axes>"
      ]
     },
     "metadata": {
      "needs_background": "light"
     },
     "output_type": "display_data"
    }
   ],
   "source": [
    "plt.figure(figsize=(10,6))\n",
    "plt.grid(True)\n",
    "plt.scatter(df['BK_hospitalization'],df['Car'])\n",
    "\n",
    "# Set the chart title and label the axis\n",
    "plt.xlabel('BK_hospitalization')\n",
    "plt.ylabel('Car')\n",
    "plt.show()"
   ]
  },
  {
   "cell_type": "code",
   "execution_count": 12,
   "id": "1b6a26a9",
   "metadata": {},
   "outputs": [
    {
     "data": {
      "image/png": "[encoded data removed]",
      "text/plain": [
       "<Figure size 720x432 with 1 Axes>"
      ]
     },
     "metadata": {
      "needs_background": "light"
     },
     "output_type": "display_data"
    }
   ],
   "source": [
    "#Standardize the above data using StandardScaler\n",
    "\n",
    "from sklearn.preprocessing import StandardScaler\n",
    "\n",
    "X=df['BK_hospitalization'].values.reshape(-1, 1)\n",
    "y=df['Car'].values.reshape(-1, 1)\n",
    "\n",
    "ss_x=StandardScaler()\n",
    "ss_y=StandardScaler()\n",
    "X_ss=ss_x.fit_transform(X)\n",
    "y_ss=ss_y.fit_transform(y)\n",
    "plt.figure(figsize=(10,6))\n",
    "plt.grid(True)\n",
    "plt.scatter(X_ss,y_ss)\n",
    "\n",
    "plt.xlabel('BK_hospitalization')\n",
    "plt.ylabel('Car')\n",
    "plt.show()"
   ]
  },
  {
   "cell_type": "code",
   "execution_count": 15,
   "id": "344221a8",
   "metadata": {},
   "outputs": [
    {
     "data": {
      "text/html": [
       "<div>\n",
       "<style scoped>\n",
       "    .dataframe tbody tr th:only-of-type {\n",
       "        vertical-align: middle;\n",
       "    }\n",
       "\n",
       "    .dataframe tbody tr th {\n",
       "        vertical-align: top;\n",
       "    }\n",
       "\n",
       "    .dataframe thead th {\n",
       "        text-align: right;\n",
       "    }\n",
       "</style>\n",
       "<table border=\"1\" class=\"dataframe\">\n",
       "  <thead>\n",
       "    <tr style=\"text-align: right;\">\n",
       "      <th></th>\n",
       "      <th>BK_hospitalization_ss</th>\n",
       "      <th>Car_ss</th>\n",
       "    </tr>\n",
       "  </thead>\n",
       "  <tbody>\n",
       "    <tr>\n",
       "      <th>0</th>\n",
       "      <td>1.345224</td>\n",
       "      <td>1.804566</td>\n",
       "    </tr>\n",
       "    <tr>\n",
       "      <th>1</th>\n",
       "      <td>1.719667</td>\n",
       "      <td>-0.422588</td>\n",
       "    </tr>\n",
       "    <tr>\n",
       "      <th>2</th>\n",
       "      <td>2.198123</td>\n",
       "      <td>1.433373</td>\n",
       "    </tr>\n",
       "    <tr>\n",
       "      <th>3</th>\n",
       "      <td>2.038638</td>\n",
       "      <td>-0.051396</td>\n",
       "    </tr>\n",
       "    <tr>\n",
       "      <th>4</th>\n",
       "      <td>1.587919</td>\n",
       "      <td>0.690989</td>\n",
       "    </tr>\n",
       "    <tr>\n",
       "      <th>...</th>\n",
       "      <td>...</td>\n",
       "      <td>...</td>\n",
       "    </tr>\n",
       "    <tr>\n",
       "      <th>60</th>\n",
       "      <td>-0.596336</td>\n",
       "      <td>0.319796</td>\n",
       "    </tr>\n",
       "    <tr>\n",
       "      <th>61</th>\n",
       "      <td>-0.478456</td>\n",
       "      <td>-1.164973</td>\n",
       "    </tr>\n",
       "    <tr>\n",
       "      <th>62</th>\n",
       "      <td>-0.464588</td>\n",
       "      <td>-0.793780</td>\n",
       "    </tr>\n",
       "    <tr>\n",
       "      <th>63</th>\n",
       "      <td>-0.561666</td>\n",
       "      <td>-1.536165</td>\n",
       "    </tr>\n",
       "    <tr>\n",
       "      <th>64</th>\n",
       "      <td>-0.443785</td>\n",
       "      <td>-0.793780</td>\n",
       "    </tr>\n",
       "  </tbody>\n",
       "</table>\n",
       "<p>65 rows × 2 columns</p>\n",
       "</div>"
      ],
      "text/plain": [
       "    BK_hospitalization_ss    Car_ss\n",
       "0                1.345224  1.804566\n",
       "1                1.719667 -0.422588\n",
       "2                2.198123  1.433373\n",
       "3                2.038638 -0.051396\n",
       "4                1.587919  0.690989\n",
       "..                    ...       ...\n",
       "60              -0.596336  0.319796\n",
       "61              -0.478456 -1.164973\n",
       "62              -0.464588 -0.793780\n",
       "63              -0.561666 -1.536165\n",
       "64              -0.443785 -0.793780\n",
       "\n",
       "[65 rows x 2 columns]"
      ]
     },
     "execution_count": 15,
     "metadata": {},
     "output_type": "execute_result"
    }
   ],
   "source": [
    "X_ss = X_ss.reshape(-1)\n",
    "y_ss = y_ss.reshape(-1)\n",
    "dict_ss={\"BK_hospitalization_ss\" : X_ss,\n",
    "   \"Car_ss\" : y_ss}\n",
    "df_ss= pd.DataFrame(dict_ss)\n",
    "df_ss #show the dataframe after the standardization"
   ]
  },
  {
   "cell_type": "code",
   "execution_count": 16,
   "id": "12d47186",
   "metadata": {},
   "outputs": [],
   "source": [
    "def computeCost(x,y,theta):\n",
    "    inner = np.sum(np.power((x*theta-y),2))\n",
    "    return inner/(2*len(x)) #Define cost function"
   ]
  },
  {
   "cell_type": "code",
   "execution_count": 17,
   "id": "1843ca4c",
   "metadata": {},
   "outputs": [
    {
     "data": {
      "text/html": [
       "<div>\n",
       "<style scoped>\n",
       "    .dataframe tbody tr th:only-of-type {\n",
       "        vertical-align: middle;\n",
       "    }\n",
       "\n",
       "    .dataframe tbody tr th {\n",
       "        vertical-align: top;\n",
       "    }\n",
       "\n",
       "    .dataframe thead th {\n",
       "        text-align: right;\n",
       "    }\n",
       "</style>\n",
       "<table border=\"1\" class=\"dataframe\">\n",
       "  <thead>\n",
       "    <tr style=\"text-align: right;\">\n",
       "      <th></th>\n",
       "      <th>ones</th>\n",
       "      <th>BK_hospitalization_ss</th>\n",
       "      <th>Car_ss</th>\n",
       "    </tr>\n",
       "  </thead>\n",
       "  <tbody>\n",
       "    <tr>\n",
       "      <th>0</th>\n",
       "      <td>1</td>\n",
       "      <td>1.345224</td>\n",
       "      <td>1.804566</td>\n",
       "    </tr>\n",
       "    <tr>\n",
       "      <th>1</th>\n",
       "      <td>1</td>\n",
       "      <td>1.719667</td>\n",
       "      <td>-0.422588</td>\n",
       "    </tr>\n",
       "    <tr>\n",
       "      <th>2</th>\n",
       "      <td>1</td>\n",
       "      <td>2.198123</td>\n",
       "      <td>1.433373</td>\n",
       "    </tr>\n",
       "    <tr>\n",
       "      <th>3</th>\n",
       "      <td>1</td>\n",
       "      <td>2.038638</td>\n",
       "      <td>-0.051396</td>\n",
       "    </tr>\n",
       "    <tr>\n",
       "      <th>4</th>\n",
       "      <td>1</td>\n",
       "      <td>1.587919</td>\n",
       "      <td>0.690989</td>\n",
       "    </tr>\n",
       "  </tbody>\n",
       "</table>\n",
       "</div>"
      ],
      "text/plain": [
       "   ones  BK_hospitalization_ss    Car_ss\n",
       "0     1               1.345224  1.804566\n",
       "1     1               1.719667 -0.422588\n",
       "2     1               2.198123  1.433373\n",
       "3     1               2.038638 -0.051396\n",
       "4     1               1.587919  0.690989"
      ]
     },
     "execution_count": 17,
     "metadata": {},
     "output_type": "execute_result"
    }
   ],
   "source": [
    "\n",
    "# Because theta is a 2*1-dimensional vector and x is a len(x) * 1-dimensional vector, in order to be able to perform calculations, add a column before the 0th column in x, the value of which is all 1, so that x becomes len(x ) *2-dimensional matrix. At this time x * theta is the hypothetical function.\n",
    "\n",
    "df_ss.insert(0,'ones',1)#It means to add a column before the 0th column of df, the name of the column is'one', and its value is all 1\n",
    "df_ss.head()"
   ]
  },
  {
   "cell_type": "code",
   "execution_count": 18,
   "id": "9bd81a85",
   "metadata": {},
   "outputs": [],
   "source": [
    "# Define input variables and output variables and parameters\n",
    "x=df_ss.loc[:,['ones','BK_hospitalization_ss']]\n",
    "y=df_ss.loc[:,'Car_ss']\n",
    "X=np.matrix(x.values)\n",
    "y=np.matrix(y.values) \n",
    "theta=np.matrix([0,0])"
   ]
  },
  {
   "cell_type": "code",
   "execution_count": 19,
   "id": "0f703d6f",
   "metadata": {},
   "outputs": [],
   "source": [
    "y=y.T  #Reverse transpose\n",
    "theta=theta.T"
   ]
  },
  {
   "cell_type": "code",
   "execution_count": 20,
   "id": "6b62b549",
   "metadata": {},
   "outputs": [
    {
     "data": {
      "text/plain": [
       "0.4999999999999999"
      ]
     },
     "execution_count": 20,
     "metadata": {},
     "output_type": "execute_result"
    }
   ],
   "source": [
    "computeCost(X,y,theta)#First calculate the initial cost function"
   ]
  },
  {
   "cell_type": "code",
   "execution_count": 21,
   "id": "e17a6181",
   "metadata": {},
   "outputs": [],
   "source": [
    "#Define the gradient descent algorithm\n",
    "def gradientDescent(x,y,theta,alpha,iters):#alpha is the learning rate, iters is the number of iterations\n",
    "    temp = np.matrix(np.zeros(theta.shape))#initialization\n",
    "    cost = np.zeros(iters) \n",
    "    for i in range(iters):\n",
    "        temp = theta - ((alpha/len(x))*(x*theta-y).T *x).T #Use the form of a vector\n",
    "        theta = temp  # Update at the same time\n",
    "        cost[i]=computeCost(x,y,theta)\n",
    "   \n",
    "    return theta,cost"
   ]
  },
  {
   "cell_type": "code",
   "execution_count": 22,
   "id": "31db9b64",
   "metadata": {},
   "outputs": [],
   "source": [
    "alpha=0.01\n",
    "iters=1000"
   ]
  },
  {
   "cell_type": "code",
   "execution_count": 23,
   "id": "a9aa34be",
   "metadata": {},
   "outputs": [
    {
     "data": {
      "text/plain": [
       "matrix([[-1.39225111e-16],\n",
       "        [ 2.59833905e-01]])"
      ]
     },
     "execution_count": 23,
     "metadata": {},
     "output_type": "execute_result"
    }
   ],
   "source": [
    "finally_theta,cost=gradientDescent(X,y,theta,alpha,iters)\n",
    "finally_theta"
   ]
  },
  {
   "cell_type": "code",
   "execution_count": 24,
   "id": "1936e2ad",
   "metadata": {},
   "outputs": [
    {
     "data": {
      "text/plain": [
       "0.4662402561199856"
      ]
     },
     "execution_count": 24,
     "metadata": {},
     "output_type": "execute_result"
    }
   ],
   "source": [
    "computeCost(X,y,finally_theta)#Calculate the cost function of the training model with the parameters obtained by the fitting"
   ]
  },
  {
   "cell_type": "code",
   "execution_count": 25,
   "id": "837d5fe6",
   "metadata": {},
   "outputs": [
    {
     "data": {
      "image/png": "[encoded data removed]",
      "text/plain": [
       "<Figure size 576x288 with 1 Axes>"
      ]
     },
     "metadata": {
      "needs_background": "light"
     },
     "output_type": "display_data"
    }
   ],
   "source": [
    "x=np.linspace(df_ss['BK_hospitalization_ss'].min(),df_ss['BK_hospitalization_ss'].max(),100)#Select the minimum and maximum values in a column, and generate 100 numbers at equal intervals between these two values\n",
    "f=finally_theta[0,0]+finally_theta[1,0]*x \n",
    "fig,ax=plt.subplots(figsize=(8,4))\n",
    "ax.plot(x,f,'r',label='LinearRegression')\n",
    "ax.scatter(df_ss['BK_hospitalization_ss'],df_ss['Car_ss'],label='Dataset')\n",
    "ax.legend(loc=2)\n",
    "ax.set_xlabel('BK_hospitalization_ss')\n",
    "ax.set_ylabel('Car_ss')\n",
    "ax.set_title('Corelation')\n",
    "plt.show()"
   ]
  },
  {
   "cell_type": "code",
   "execution_count": 26,
   "id": "257f388d",
   "metadata": {},
   "outputs": [
    {
     "data": {
      "text/plain": [
       "Text(0.5, 1.0, 'GredientDecent')"
      ]
     },
     "execution_count": 26,
     "metadata": {},
     "output_type": "execute_result"
    },
    {
     "data": {
      "image/png": "[encoded data removed]",
      "text/plain": [
       "<Figure size 576x288 with 1 Axes>"
      ]
     },
     "metadata": {
      "needs_background": "light"
     },
     "output_type": "display_data"
    }
   ],
   "source": [
    "x=np.arange(1000)\n",
    "fig,ax=plt.subplots(figsize=(8,4))\n",
    "ax.plot(x,cost,'r')\n",
    "ax.set_xlabel('Iterations')\n",
    "ax.set_ylabel('CostFunction')\n",
    "ax.set_title('GredientDecent')"
   ]
  },
  {
   "cell_type": "code",
   "execution_count": null,
   "id": "360960e3",
   "metadata": {},
   "outputs": [],
   "source": []
  },
  {
   "cell_type": "code",
   "execution_count": null,
   "id": "bc4848b6",
   "metadata": {},
   "outputs": [],
   "source": []
  },
  {
   "cell_type": "code",
   "execution_count": null,
   "id": "d24141f9",
   "metadata": {},
   "outputs": [],
   "source": []
  },
  {
   "cell_type": "code",
   "execution_count": null,
   "id": "4e83349f",
   "metadata": {},
   "outputs": [],
   "source": []
  }
 ],
 "metadata": {
  "kernelspec": {
   "display_name": "Python 3",
   "language": "python",
   "name": "python3"
  },
  "language_info": {
   "codemirror_mode": {
    "name": "ipython",
    "version": 3
   },
   "file_extension": ".py",
   "mimetype": "text/x-python",
   "name": "python",
   "nbconvert_exporter": "python",
   "pygments_lexer": "ipython3",
   "version": "3.8.8"
  }
 },
 "nbformat": 4,
 "nbformat_minor": 5
}
